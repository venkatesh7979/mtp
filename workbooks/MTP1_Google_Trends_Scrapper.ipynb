{
 "cells": [
  {
   "cell_type": "markdown",
   "id": "c766e919",
   "metadata": {},
   "source": [
    "# Google Trends"
   ]
  },
  {
   "cell_type": "code",
   "execution_count": 22,
   "id": "799862c8",
   "metadata": {},
   "outputs": [
    {
     "name": "stderr",
     "output_type": "stream",
     "text": [
      "100%|██████████████████████████████████████████████████████████████████████████████████| 23/23 [01:23<00:00,  3.61s/it]\n"
     ]
    },
    {
     "name": "stdout",
     "output_type": "stream",
     "text": [
      "Succesful : inflation\n"
     ]
    },
    {
     "name": "stderr",
     "output_type": "stream",
     "text": [
      "100%|██████████████████████████████████████████████████████████████████████████████████| 23/23 [01:32<00:00,  4.02s/it]\n"
     ]
    },
    {
     "name": "stdout",
     "output_type": "stream",
     "text": [
      "Succesful : CPI\n"
     ]
    },
    {
     "name": "stderr",
     "output_type": "stream",
     "text": [
      "100%|██████████████████████████████████████████████████████████████████████████████████| 23/23 [01:16<00:00,  3.32s/it]\n"
     ]
    },
    {
     "name": "stdout",
     "output_type": "stream",
     "text": [
      "Succesful : GDP\n"
     ]
    },
    {
     "name": "stderr",
     "output_type": "stream",
     "text": [
      "100%|██████████████████████████████████████████████████████████████████████████████████| 23/23 [01:34<00:00,  4.13s/it]\n"
     ]
    },
    {
     "name": "stdout",
     "output_type": "stream",
     "text": [
      "Succesful : interest rate\n"
     ]
    },
    {
     "name": "stderr",
     "output_type": "stream",
     "text": [
      "100%|██████████████████████████████████████████████████████████████████████████████████| 23/23 [01:26<00:00,  3.75s/it]\n"
     ]
    },
    {
     "name": "stdout",
     "output_type": "stream",
     "text": [
      "Succesful : loan\n"
     ]
    },
    {
     "name": "stderr",
     "output_type": "stream",
     "text": [
      "100%|██████████████████████████████████████████████████████████████████████████████████| 23/23 [01:20<00:00,  3.49s/it]\n"
     ]
    },
    {
     "name": "stdout",
     "output_type": "stream",
     "text": [
      "Succesful : ATM\n"
     ]
    },
    {
     "name": "stderr",
     "output_type": "stream",
     "text": [
      "100%|██████████████████████████████████████████████████████████████████████████████████| 23/23 [01:33<00:00,  4.05s/it]\n"
     ]
    },
    {
     "name": "stdout",
     "output_type": "stream",
     "text": [
      "Succesful : jobs\n"
     ]
    },
    {
     "name": "stderr",
     "output_type": "stream",
     "text": [
      "100%|██████████████████████████████████████████████████████████████████████████████████| 23/23 [01:20<00:00,  3.51s/it]\n"
     ]
    },
    {
     "name": "stdout",
     "output_type": "stream",
     "text": [
      "Succesful : vacation\n"
     ]
    },
    {
     "name": "stderr",
     "output_type": "stream",
     "text": [
      "100%|██████████████████████████████████████████████████████████████████████████████████| 23/23 [01:21<00:00,  3.55s/it]\n"
     ]
    },
    {
     "name": "stdout",
     "output_type": "stream",
     "text": [
      "Succesful : shopping\n"
     ]
    },
    {
     "name": "stderr",
     "output_type": "stream",
     "text": [
      "100%|██████████████████████████████████████████████████████████████████████████████████| 23/23 [01:35<00:00,  4.14s/it]\n"
     ]
    },
    {
     "name": "stdout",
     "output_type": "stream",
     "text": [
      "Succesful : exchange rate\n"
     ]
    },
    {
     "name": "stderr",
     "output_type": "stream",
     "text": [
      "100%|██████████████████████████████████████████████████████████████████████████████████| 23/23 [01:31<00:00,  3.97s/it]\n"
     ]
    },
    {
     "name": "stdout",
     "output_type": "stream",
     "text": [
      "Succesful : price\n"
     ]
    },
    {
     "name": "stderr",
     "output_type": "stream",
     "text": [
      "100%|██████████████████████████████████████████████████████████████████████████████████| 23/23 [01:39<00:00,  4.34s/it]\n"
     ]
    },
    {
     "name": "stdout",
     "output_type": "stream",
     "text": [
      "Succesful : USDINR\n"
     ]
    },
    {
     "name": "stderr",
     "output_type": "stream",
     "text": [
      " 39%|████████████████████████████████▍                                                  | 9/23 [00:35<00:55,  3.96s/it]\n"
     ]
    },
    {
     "name": "stdout",
     "output_type": "stream",
     "text": [
      "Succesful : INRUSD\n"
     ]
    },
    {
     "name": "stderr",
     "output_type": "stream",
     "text": [
      "  0%|                                                                                           | 0/23 [00:01<?, ?it/s]\n"
     ]
    },
    {
     "name": "stdout",
     "output_type": "stream",
     "text": [
      "Succesful : INR=X\n"
     ]
    },
    {
     "name": "stderr",
     "output_type": "stream",
     "text": [
      "100%|██████████████████████████████████████████████████████████████████████████████████| 23/23 [01:26<00:00,  3.76s/it]\n"
     ]
    },
    {
     "name": "stdout",
     "output_type": "stream",
     "text": [
      "Succesful : cheap\n"
     ]
    },
    {
     "name": "stderr",
     "output_type": "stream",
     "text": [
      " 57%|██████████████████████████████████████████████▎                                   | 13/23 [00:42<00:32,  3.29s/it]\n"
     ]
    },
    {
     "name": "stdout",
     "output_type": "stream",
     "text": [
      "Succesful : buy\n"
     ]
    },
    {
     "name": "stderr",
     "output_type": "stream",
     "text": [
      "  0%|                                                                                           | 0/23 [00:01<?, ?it/s]\n"
     ]
    },
    {
     "name": "stdout",
     "output_type": "stream",
     "text": [
      "Succesful : spend\n"
     ]
    },
    {
     "name": "stderr",
     "output_type": "stream",
     "text": [
      "  9%|███████▏                                                                           | 2/23 [00:06<01:08,  3.25s/it]\n"
     ]
    },
    {
     "name": "stdout",
     "output_type": "stream",
     "text": [
      "Succesful : save\n"
     ]
    },
    {
     "name": "stderr",
     "output_type": "stream",
     "text": [
      "100%|██████████████████████████████████████████████████████████████████████████████████| 23/23 [01:17<00:00,  3.38s/it]\n"
     ]
    },
    {
     "name": "stdout",
     "output_type": "stream",
     "text": [
      "Succesful : foreclosure\n"
     ]
    },
    {
     "name": "stderr",
     "output_type": "stream",
     "text": [
      "100%|██████████████████████████████████████████████████████████████████████████████████| 23/23 [01:29<00:00,  3.91s/it]\n"
     ]
    },
    {
     "name": "stdout",
     "output_type": "stream",
     "text": [
      "Succesful : cash\n"
     ]
    },
    {
     "name": "stderr",
     "output_type": "stream",
     "text": [
      "  4%|███▌                                                                               | 1/23 [00:04<01:39,  4.51s/it]\n"
     ]
    },
    {
     "name": "stdout",
     "output_type": "stream",
     "text": [
      "Succesful : credit\n"
     ]
    },
    {
     "name": "stderr",
     "output_type": "stream",
     "text": [
      "  0%|                                                                                           | 0/23 [00:01<?, ?it/s]"
     ]
    },
    {
     "name": "stdout",
     "output_type": "stream",
     "text": [
      "Succesful : layoff\n"
     ]
    },
    {
     "name": "stderr",
     "output_type": "stream",
     "text": [
      "\n"
     ]
    }
   ],
   "source": [
    "from DailyTrends.collect import collect_data\n",
    "gt_keywords = ['inflation','CPI','GDP','interest rate','loan','ATM','jobs','vacation','shopping','exchange rate','price','USDINR','INRUSD'\n",
    ",'INR=X','cheap','buy','spend','save','foreclosure','cash','credit','layoff']\n",
    "\n",
    "df_out = pd.DataFrame()\n",
    "\n",
    "for keyword in gt_keywords:\n",
    "    \n",
    "    try:\n",
    "        data = collect_data([keyword],start=\"2009-01-01\", end=\"TODAY\",\n",
    "                            geo=\"IN\", save=False, verbose=False) \n",
    "        df_out[keyword] = data[data.columns[0]]\n",
    "        print('Succesful :',keyword)\n",
    "    except:\n",
    "        print('Failed:',keyword)"
   ]
  },
  {
   "cell_type": "code",
   "execution_count": 24,
   "id": "5e38b63c",
   "metadata": {},
   "outputs": [
    {
     "name": "stderr",
     "output_type": "stream",
     "text": [
      "100%|██████████████████████████████████████████████████████████████████████████████████| 23/23 [01:39<00:00,  4.30s/it]\n"
     ]
    },
    {
     "name": "stdout",
     "output_type": "stream",
     "text": [
      "Succesful : INRUSD\n"
     ]
    },
    {
     "name": "stderr",
     "output_type": "stream",
     "text": [
      "  9%|███████▏                                                                           | 2/23 [00:12<02:07,  6.07s/it]\n"
     ]
    },
    {
     "name": "stdout",
     "output_type": "stream",
     "text": [
      "Failed: INR=X\n"
     ]
    },
    {
     "name": "stderr",
     "output_type": "stream",
     "text": [
      "100%|██████████████████████████████████████████████████████████████████████████████████| 23/23 [01:22<00:00,  3.59s/it]\n"
     ]
    },
    {
     "name": "stdout",
     "output_type": "stream",
     "text": [
      "Succesful : buy\n"
     ]
    },
    {
     "name": "stderr",
     "output_type": "stream",
     "text": [
      " 39%|████████████████████████████████▍                                                  | 9/23 [00:35<00:55,  3.97s/it]\n"
     ]
    },
    {
     "name": "stdout",
     "output_type": "stream",
     "text": [
      "Failed: spend\n"
     ]
    },
    {
     "name": "stderr",
     "output_type": "stream",
     "text": [
      "100%|██████████████████████████████████████████████████████████████████████████████████| 23/23 [01:38<00:00,  4.29s/it]\n"
     ]
    },
    {
     "name": "stdout",
     "output_type": "stream",
     "text": [
      "Succesful : save\n"
     ]
    },
    {
     "name": "stderr",
     "output_type": "stream",
     "text": [
      "100%|██████████████████████████████████████████████████████████████████████████████████| 23/23 [01:22<00:00,  3.58s/it]\n"
     ]
    },
    {
     "name": "stdout",
     "output_type": "stream",
     "text": [
      "Succesful : credit\n"
     ]
    },
    {
     "name": "stderr",
     "output_type": "stream",
     "text": [
      "100%|██████████████████████████████████████████████████████████████████████████████████| 23/23 [01:38<00:00,  4.30s/it]"
     ]
    },
    {
     "name": "stdout",
     "output_type": "stream",
     "text": [
      "Succesful : layoff\n"
     ]
    },
    {
     "name": "stderr",
     "output_type": "stream",
     "text": [
      "\n"
     ]
    }
   ],
   "source": [
    "failed = ['INRUSD','INR=X','buy','spend','save','credit','layoff']\n",
    "\n",
    "for keyword in failed:\n",
    "    \n",
    "    try:\n",
    "        data = collect_data([keyword],start=\"2009-01-01\", end=\"TODAY\",\n",
    "                            geo=\"IN\", save=False, verbose=False) \n",
    "        df_out[keyword] = data[data.columns[0]]\n",
    "        print('Succesful :',keyword)\n",
    "    except:\n",
    "        print('Failed:',keyword)"
   ]
  },
  {
   "cell_type": "code",
   "execution_count": 25,
   "id": "73163f5d",
   "metadata": {},
   "outputs": [
    {
     "name": "stderr",
     "output_type": "stream",
     "text": [
      "100%|██████████████████████████████████████████████████████████████████████████████████| 23/23 [01:24<00:00,  3.67s/it]\n"
     ]
    },
    {
     "name": "stdout",
     "output_type": "stream",
     "text": [
      "Succesful : USD\n"
     ]
    },
    {
     "name": "stderr",
     "output_type": "stream",
     "text": [
      "100%|██████████████████████████████████████████████████████████████████████████████████| 23/23 [01:18<00:00,  3.42s/it]\n"
     ]
    },
    {
     "name": "stdout",
     "output_type": "stream",
     "text": [
      "Succesful : INR\n"
     ]
    },
    {
     "name": "stderr",
     "output_type": "stream",
     "text": [
      "100%|██████████████████████████████████████████████████████████████████████████████████| 23/23 [01:34<00:00,  4.10s/it]"
     ]
    },
    {
     "name": "stdout",
     "output_type": "stream",
     "text": [
      "Succesful : USD to INR\n"
     ]
    },
    {
     "name": "stderr",
     "output_type": "stream",
     "text": [
      "\n"
     ]
    }
   ],
   "source": [
    "extra = ['USD','INR','USD to INR']\n",
    "\n",
    "for keyword in extra:\n",
    "    \n",
    "    try:\n",
    "        data = collect_data([keyword],start=\"2009-01-01\", end=\"TODAY\",\n",
    "                            geo=\"IN\", save=False, verbose=False) \n",
    "        df_out[keyword] = data[data.columns[0]]\n",
    "        print('Succesful :',keyword)\n",
    "    except:\n",
    "        print('Failed:',keyword)"
   ]
  },
  {
   "cell_type": "code",
   "execution_count": 28,
   "id": "f2904ed6",
   "metadata": {},
   "outputs": [
    {
     "data": {
      "text/html": [
       "<div>\n",
       "<style scoped>\n",
       "    .dataframe tbody tr th:only-of-type {\n",
       "        vertical-align: middle;\n",
       "    }\n",
       "\n",
       "    .dataframe tbody tr th {\n",
       "        vertical-align: top;\n",
       "    }\n",
       "\n",
       "    .dataframe thead th {\n",
       "        text-align: right;\n",
       "    }\n",
       "</style>\n",
       "<table border=\"1\" class=\"dataframe\">\n",
       "  <thead>\n",
       "    <tr style=\"text-align: right;\">\n",
       "      <th></th>\n",
       "      <th>inflation</th>\n",
       "      <th>CPI</th>\n",
       "      <th>GDP</th>\n",
       "      <th>interest rate</th>\n",
       "      <th>loan</th>\n",
       "      <th>ATM</th>\n",
       "      <th>jobs</th>\n",
       "      <th>vacation</th>\n",
       "      <th>shopping</th>\n",
       "      <th>exchange rate</th>\n",
       "      <th>...</th>\n",
       "      <th>foreclosure</th>\n",
       "      <th>cash</th>\n",
       "      <th>INRUSD</th>\n",
       "      <th>buy</th>\n",
       "      <th>save</th>\n",
       "      <th>credit</th>\n",
       "      <th>layoff</th>\n",
       "      <th>USD</th>\n",
       "      <th>INR</th>\n",
       "      <th>USD to INR</th>\n",
       "    </tr>\n",
       "    <tr>\n",
       "      <th>Day</th>\n",
       "      <th></th>\n",
       "      <th></th>\n",
       "      <th></th>\n",
       "      <th></th>\n",
       "      <th></th>\n",
       "      <th></th>\n",
       "      <th></th>\n",
       "      <th></th>\n",
       "      <th></th>\n",
       "      <th></th>\n",
       "      <th></th>\n",
       "      <th></th>\n",
       "      <th></th>\n",
       "      <th></th>\n",
       "      <th></th>\n",
       "      <th></th>\n",
       "      <th></th>\n",
       "      <th></th>\n",
       "      <th></th>\n",
       "      <th></th>\n",
       "      <th></th>\n",
       "    </tr>\n",
       "  </thead>\n",
       "  <tbody>\n",
       "    <tr>\n",
       "      <th>2009-03-29</th>\n",
       "      <td>0.000000</td>\n",
       "      <td>0.000000</td>\n",
       "      <td>0.000000</td>\n",
       "      <td>13.641485</td>\n",
       "      <td>46.000000</td>\n",
       "      <td>5.833025</td>\n",
       "      <td>25.580539</td>\n",
       "      <td>0.000000</td>\n",
       "      <td>24.397135</td>\n",
       "      <td>69.000000</td>\n",
       "      <td>...</td>\n",
       "      <td>0.000000</td>\n",
       "      <td>29.909136</td>\n",
       "      <td>0.000000</td>\n",
       "      <td>NaN</td>\n",
       "      <td>65.906251</td>\n",
       "      <td>39.609775</td>\n",
       "      <td>0.000000</td>\n",
       "      <td>11.893295</td>\n",
       "      <td>9.161711</td>\n",
       "      <td>0.000000</td>\n",
       "    </tr>\n",
       "    <tr>\n",
       "      <th>2009-03-30</th>\n",
       "      <td>26.000000</td>\n",
       "      <td>0.000000</td>\n",
       "      <td>4.974182</td>\n",
       "      <td>22.735809</td>\n",
       "      <td>52.000000</td>\n",
       "      <td>17.207423</td>\n",
       "      <td>27.085277</td>\n",
       "      <td>0.000000</td>\n",
       "      <td>22.364041</td>\n",
       "      <td>59.000000</td>\n",
       "      <td>...</td>\n",
       "      <td>0.000000</td>\n",
       "      <td>31.105501</td>\n",
       "      <td>0.000000</td>\n",
       "      <td>NaN</td>\n",
       "      <td>44.157188</td>\n",
       "      <td>57.528483</td>\n",
       "      <td>0.000000</td>\n",
       "      <td>21.407930</td>\n",
       "      <td>18.323421</td>\n",
       "      <td>13.443863</td>\n",
       "    </tr>\n",
       "    <tr>\n",
       "      <th>2009-03-31</th>\n",
       "      <td>16.000000</td>\n",
       "      <td>0.000000</td>\n",
       "      <td>8.417846</td>\n",
       "      <td>21.436620</td>\n",
       "      <td>54.000000</td>\n",
       "      <td>17.499074</td>\n",
       "      <td>27.837646</td>\n",
       "      <td>50.000000</td>\n",
       "      <td>21.957422</td>\n",
       "      <td>42.000000</td>\n",
       "      <td>...</td>\n",
       "      <td>0.000000</td>\n",
       "      <td>34.694598</td>\n",
       "      <td>0.000000</td>\n",
       "      <td>NaN</td>\n",
       "      <td>36.907500</td>\n",
       "      <td>56.585393</td>\n",
       "      <td>16.000000</td>\n",
       "      <td>13.974621</td>\n",
       "      <td>18.323421</td>\n",
       "      <td>5.099396</td>\n",
       "    </tr>\n",
       "    <tr>\n",
       "      <th>2009-04-01</th>\n",
       "      <td>61.000000</td>\n",
       "      <td>0.000000</td>\n",
       "      <td>14.539916</td>\n",
       "      <td>14.291080</td>\n",
       "      <td>50.000000</td>\n",
       "      <td>29.165124</td>\n",
       "      <td>30.470937</td>\n",
       "      <td>52.000000</td>\n",
       "      <td>19.924327</td>\n",
       "      <td>34.000000</td>\n",
       "      <td>...</td>\n",
       "      <td>0.000000</td>\n",
       "      <td>23.927309</td>\n",
       "      <td>0.000000</td>\n",
       "      <td>NaN</td>\n",
       "      <td>33.612188</td>\n",
       "      <td>56.585393</td>\n",
       "      <td>14.000000</td>\n",
       "      <td>20.515933</td>\n",
       "      <td>20.461154</td>\n",
       "      <td>6.490141</td>\n",
       "    </tr>\n",
       "    <tr>\n",
       "      <th>2009-04-02</th>\n",
       "      <td>38.000000</td>\n",
       "      <td>0.000000</td>\n",
       "      <td>8.035217</td>\n",
       "      <td>21.436620</td>\n",
       "      <td>37.000000</td>\n",
       "      <td>23.040448</td>\n",
       "      <td>27.837646</td>\n",
       "      <td>0.000000</td>\n",
       "      <td>23.177278</td>\n",
       "      <td>64.000000</td>\n",
       "      <td>...</td>\n",
       "      <td>25.000000</td>\n",
       "      <td>21.534578</td>\n",
       "      <td>18.452381</td>\n",
       "      <td>NaN</td>\n",
       "      <td>28.339688</td>\n",
       "      <td>67.902472</td>\n",
       "      <td>26.000000</td>\n",
       "      <td>16.353280</td>\n",
       "      <td>17.407250</td>\n",
       "      <td>0.000000</td>\n",
       "    </tr>\n",
       "    <tr>\n",
       "      <th>...</th>\n",
       "      <td>...</td>\n",
       "      <td>...</td>\n",
       "      <td>...</td>\n",
       "      <td>...</td>\n",
       "      <td>...</td>\n",
       "      <td>...</td>\n",
       "      <td>...</td>\n",
       "      <td>...</td>\n",
       "      <td>...</td>\n",
       "      <td>...</td>\n",
       "      <td>...</td>\n",
       "      <td>...</td>\n",
       "      <td>...</td>\n",
       "      <td>...</td>\n",
       "      <td>...</td>\n",
       "      <td>...</td>\n",
       "      <td>...</td>\n",
       "      <td>...</td>\n",
       "      <td>...</td>\n",
       "      <td>...</td>\n",
       "      <td>...</td>\n",
       "    </tr>\n",
       "    <tr>\n",
       "      <th>2022-11-07</th>\n",
       "      <td>8.909659</td>\n",
       "      <td>9.733781</td>\n",
       "      <td>6.796875</td>\n",
       "      <td>43.361345</td>\n",
       "      <td>65.176584</td>\n",
       "      <td>18.756358</td>\n",
       "      <td>6.670282</td>\n",
       "      <td>13.895395</td>\n",
       "      <td>17.241955</td>\n",
       "      <td>12.009718</td>\n",
       "      <td>...</td>\n",
       "      <td>10.200118</td>\n",
       "      <td>24.698428</td>\n",
       "      <td>0.000000</td>\n",
       "      <td>45.419678</td>\n",
       "      <td>68.824145</td>\n",
       "      <td>61.884677</td>\n",
       "      <td>6.795543</td>\n",
       "      <td>43.572622</td>\n",
       "      <td>61.300138</td>\n",
       "      <td>41.157688</td>\n",
       "    </tr>\n",
       "    <tr>\n",
       "      <th>2022-11-08</th>\n",
       "      <td>11.404364</td>\n",
       "      <td>9.328207</td>\n",
       "      <td>7.500000</td>\n",
       "      <td>40.470588</td>\n",
       "      <td>57.195778</td>\n",
       "      <td>18.756358</td>\n",
       "      <td>6.670282</td>\n",
       "      <td>15.198088</td>\n",
       "      <td>17.524610</td>\n",
       "      <td>10.341701</td>\n",
       "      <td>...</td>\n",
       "      <td>3.955148</td>\n",
       "      <td>23.624584</td>\n",
       "      <td>0.000000</td>\n",
       "      <td>50.466309</td>\n",
       "      <td>74.187065</td>\n",
       "      <td>57.516347</td>\n",
       "      <td>6.177767</td>\n",
       "      <td>38.126044</td>\n",
       "      <td>57.420382</td>\n",
       "      <td>37.264393</td>\n",
       "    </tr>\n",
       "    <tr>\n",
       "      <th>2022-11-09</th>\n",
       "      <td>11.404364</td>\n",
       "      <td>9.733781</td>\n",
       "      <td>6.796875</td>\n",
       "      <td>38.543417</td>\n",
       "      <td>51.875240</td>\n",
       "      <td>19.197684</td>\n",
       "      <td>6.585848</td>\n",
       "      <td>12.592702</td>\n",
       "      <td>15.828680</td>\n",
       "      <td>12.343321</td>\n",
       "      <td>...</td>\n",
       "      <td>5.724556</td>\n",
       "      <td>20.134588</td>\n",
       "      <td>0.000000</td>\n",
       "      <td>43.527192</td>\n",
       "      <td>65.248865</td>\n",
       "      <td>54.604127</td>\n",
       "      <td>12.355533</td>\n",
       "      <td>44.177797</td>\n",
       "      <td>57.420382</td>\n",
       "      <td>40.045318</td>\n",
       "    </tr>\n",
       "    <tr>\n",
       "      <th>2022-11-10</th>\n",
       "      <td>18.175704</td>\n",
       "      <td>28.795768</td>\n",
       "      <td>6.562500</td>\n",
       "      <td>36.134454</td>\n",
       "      <td>47.884837</td>\n",
       "      <td>17.432380</td>\n",
       "      <td>5.488207</td>\n",
       "      <td>10.855777</td>\n",
       "      <td>14.698060</td>\n",
       "      <td>10.008098</td>\n",
       "      <td>...</td>\n",
       "      <td>3.851065</td>\n",
       "      <td>18.523821</td>\n",
       "      <td>0.544681</td>\n",
       "      <td>41.634705</td>\n",
       "      <td>62.567404</td>\n",
       "      <td>52.419962</td>\n",
       "      <td>10.378648</td>\n",
       "      <td>40.546746</td>\n",
       "      <td>55.092529</td>\n",
       "      <td>37.820578</td>\n",
       "    </tr>\n",
       "    <tr>\n",
       "      <th>2022-11-11</th>\n",
       "      <td>15.681000</td>\n",
       "      <td>15.006245</td>\n",
       "      <td>7.031250</td>\n",
       "      <td>42.879552</td>\n",
       "      <td>56.530711</td>\n",
       "      <td>19.418347</td>\n",
       "      <td>6.754716</td>\n",
       "      <td>12.592702</td>\n",
       "      <td>17.241955</td>\n",
       "      <td>12.676924</td>\n",
       "      <td>...</td>\n",
       "      <td>5.412308</td>\n",
       "      <td>24.161506</td>\n",
       "      <td>0.000000</td>\n",
       "      <td>49.204652</td>\n",
       "      <td>68.824145</td>\n",
       "      <td>62.612732</td>\n",
       "      <td>9.266650</td>\n",
       "      <td>50.229550</td>\n",
       "      <td>66.731796</td>\n",
       "      <td>51.169018</td>\n",
       "    </tr>\n",
       "  </tbody>\n",
       "</table>\n",
       "<p>4976 rows × 23 columns</p>\n",
       "</div>"
      ],
      "text/plain": [
       "            inflation        CPI        GDP  interest rate       loan  \\\n",
       "Day                                                                     \n",
       "2009-03-29   0.000000   0.000000   0.000000      13.641485  46.000000   \n",
       "2009-03-30  26.000000   0.000000   4.974182      22.735809  52.000000   \n",
       "2009-03-31  16.000000   0.000000   8.417846      21.436620  54.000000   \n",
       "2009-04-01  61.000000   0.000000  14.539916      14.291080  50.000000   \n",
       "2009-04-02  38.000000   0.000000   8.035217      21.436620  37.000000   \n",
       "...               ...        ...        ...            ...        ...   \n",
       "2022-11-07   8.909659   9.733781   6.796875      43.361345  65.176584   \n",
       "2022-11-08  11.404364   9.328207   7.500000      40.470588  57.195778   \n",
       "2022-11-09  11.404364   9.733781   6.796875      38.543417  51.875240   \n",
       "2022-11-10  18.175704  28.795768   6.562500      36.134454  47.884837   \n",
       "2022-11-11  15.681000  15.006245   7.031250      42.879552  56.530711   \n",
       "\n",
       "                  ATM       jobs   vacation   shopping  exchange rate  ...  \\\n",
       "Day                                                                    ...   \n",
       "2009-03-29   5.833025  25.580539   0.000000  24.397135      69.000000  ...   \n",
       "2009-03-30  17.207423  27.085277   0.000000  22.364041      59.000000  ...   \n",
       "2009-03-31  17.499074  27.837646  50.000000  21.957422      42.000000  ...   \n",
       "2009-04-01  29.165124  30.470937  52.000000  19.924327      34.000000  ...   \n",
       "2009-04-02  23.040448  27.837646   0.000000  23.177278      64.000000  ...   \n",
       "...               ...        ...        ...        ...            ...  ...   \n",
       "2022-11-07  18.756358   6.670282  13.895395  17.241955      12.009718  ...   \n",
       "2022-11-08  18.756358   6.670282  15.198088  17.524610      10.341701  ...   \n",
       "2022-11-09  19.197684   6.585848  12.592702  15.828680      12.343321  ...   \n",
       "2022-11-10  17.432380   5.488207  10.855777  14.698060      10.008098  ...   \n",
       "2022-11-11  19.418347   6.754716  12.592702  17.241955      12.676924  ...   \n",
       "\n",
       "            foreclosure       cash     INRUSD        buy       save  \\\n",
       "Day                                                                   \n",
       "2009-03-29     0.000000  29.909136   0.000000        NaN  65.906251   \n",
       "2009-03-30     0.000000  31.105501   0.000000        NaN  44.157188   \n",
       "2009-03-31     0.000000  34.694598   0.000000        NaN  36.907500   \n",
       "2009-04-01     0.000000  23.927309   0.000000        NaN  33.612188   \n",
       "2009-04-02    25.000000  21.534578  18.452381        NaN  28.339688   \n",
       "...                 ...        ...        ...        ...        ...   \n",
       "2022-11-07    10.200118  24.698428   0.000000  45.419678  68.824145   \n",
       "2022-11-08     3.955148  23.624584   0.000000  50.466309  74.187065   \n",
       "2022-11-09     5.724556  20.134588   0.000000  43.527192  65.248865   \n",
       "2022-11-10     3.851065  18.523821   0.544681  41.634705  62.567404   \n",
       "2022-11-11     5.412308  24.161506   0.000000  49.204652  68.824145   \n",
       "\n",
       "               credit     layoff        USD        INR  USD to INR  \n",
       "Day                                                                 \n",
       "2009-03-29  39.609775   0.000000  11.893295   9.161711    0.000000  \n",
       "2009-03-30  57.528483   0.000000  21.407930  18.323421   13.443863  \n",
       "2009-03-31  56.585393  16.000000  13.974621  18.323421    5.099396  \n",
       "2009-04-01  56.585393  14.000000  20.515933  20.461154    6.490141  \n",
       "2009-04-02  67.902472  26.000000  16.353280  17.407250    0.000000  \n",
       "...               ...        ...        ...        ...         ...  \n",
       "2022-11-07  61.884677   6.795543  43.572622  61.300138   41.157688  \n",
       "2022-11-08  57.516347   6.177767  38.126044  57.420382   37.264393  \n",
       "2022-11-09  54.604127  12.355533  44.177797  57.420382   40.045318  \n",
       "2022-11-10  52.419962  10.378648  40.546746  55.092529   37.820578  \n",
       "2022-11-11  62.612732   9.266650  50.229550  66.731796   51.169018  \n",
       "\n",
       "[4976 rows x 23 columns]"
      ]
     },
     "execution_count": 28,
     "metadata": {},
     "output_type": "execute_result"
    }
   ],
   "source": [
    "df_out"
   ]
  },
  {
   "cell_type": "code",
   "execution_count": 29,
   "id": "b5c128cd",
   "metadata": {},
   "outputs": [],
   "source": [
    "df_out.to_csv(r'C:\\Users\\User\\Desktop\\MTP\\Tweets and GT\\GT\\gtrends.csv')"
   ]
  }
 ],
 "metadata": {
  "kernelspec": {
   "display_name": "Python 3 (ipykernel)",
   "language": "python",
   "name": "python3"
  },
  "language_info": {
   "codemirror_mode": {
    "name": "ipython",
    "version": 3
   },
   "file_extension": ".py",
   "mimetype": "text/x-python",
   "name": "python",
   "nbconvert_exporter": "python",
   "pygments_lexer": "ipython3",
   "version": "3.7.13"
  }
 },
 "nbformat": 4,
 "nbformat_minor": 5
}
